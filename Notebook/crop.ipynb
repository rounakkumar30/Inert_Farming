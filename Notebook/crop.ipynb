{
 "cells": [
  {
   "cell_type": "code",
   "execution_count": 1,
   "metadata": {},
   "outputs": [],
   "source": [
    "commodity_dict = {\n",
    "    \"arhar\": \"static/Arhar.csv\",\n",
    "    \"bajra\": \"static/Bajra.csv\",\n",
    "    \"barley\": \"static/Barley.csv\",\n",
    "    \"copra\": \"static/Copra.csv\",\n",
    "    \"cotton\": \"static/Cotton.csv\",\n",
    "    \"sesamum\": \"static/Sesamum.csv\",\n",
    "    \"gram\": \"static/Gram.csv\",\n",
    "    \"groundnut\": \"static/Groundnut.csv\",\n",
    "    \"jowar\": \"static/Jowar.csv\",\n",
    "    \"maize\": \"static/Maize.csv\",\n",
    "    \"masoor\": \"static/Masoor.csv\",\n",
    "    \"moong\": \"static/Moong.csv\",\n",
    "    \"niger\": \"static/Niger.csv\",\n",
    "    \"paddy\": \"static/Paddy.csv\",\n",
    "    \"ragi\": \"static/Ragi.csv\",\n",
    "    \"rape\": \"static/Rape.csv\",\n",
    "    \"jute\": \"static/Jute.csv\",\n",
    "    \"safflower\": \"static/Safflower.csv\",\n",
    "    \"soyabean\": \"static/Soyabean.csv\",\n",
    "    \"sugarcane\": \"static/Sugarcane.csv\",\n",
    "    \"sunflower\": \"static/Sunflower.csv\",\n",
    "    \"urad\": \"static/Urad.csv\",\n",
    "    \"wheat\": \"static/Wheat.csv\"\n",
    "}"
   ]
  },
  {
   "cell_type": "code",
   "execution_count": null,
   "metadata": {},
   "outputs": [],
   "source": []
  },
  {
   "cell_type": "code",
   "execution_count": 2,
   "metadata": {},
   "outputs": [],
   "source": [
    "annual_rainfall = [29, 21, 37.5, 30.7, 52.6, 150, 299, 251.7, 179.2, 70.5, 39.8, 10.9]\n",
    "base = {\n",
    "    \"Paddy\": 1245.5,\n",
    "    \"Arhar\": 3200,\n",
    "    \"Bajra\": 1175,\n",
    "    \"Barley\": 980,\n",
    "    \"Copra\": 5100,\n",
    "    \"Cotton\": 3600,\n",
    "    \"Sesamum\": 4200,\n",
    "    \"Gram\": 2800,\n",
    "    \"Groundnut\": 3700,\n",
    "    \"Jowar\": 1520,\n",
    "    \"Maize\": 1175,\n",
    "    \"Masoor\": 2800,\n",
    "    \"Moong\": 3500,\n",
    "    \"Niger\": 3500,\n",
    "    \"Ragi\": 1500,\n",
    "    \"Rape\": 2500,\n",
    "    \"Jute\": 1675,\n",
    "    \"Safflower\": 2500,\n",
    "    \"Soyabean\": 2200,\n",
    "    \"Sugarcane\": 2250,\n",
    "    \"Sunflower\": 3700,\n",
    "    \"Urad\": 4300,\n",
    "    \"Wheat\": 1350\n",
    "\n",
    "}"
   ]
  },
  {
   "cell_type": "code",
   "execution_count": 3,
   "metadata": {},
   "outputs": [
    {
     "name": "stderr",
     "output_type": "stream",
     "text": [
      "C:\\Users\\rouna\\AppData\\Local\\Temp\\ipykernel_16252\\653839374.py:4: UserWarning: Could not infer format, so each element will be parsed individually, falling back to `dateutil`. To ensure parsing is consistent and as-expected, please specify a format.\n",
      "  df['Date']=pd.to_datetime(df['Date'])\n"
     ]
    }
   ],
   "source": [
    "import pandas as pd\n",
    "\n",
    "df=pd.read_csv('Arhar.csv')\n",
    "df['Date']=pd.to_datetime(df['Date'])\n"
   ]
  },
  {
   "cell_type": "code",
   "execution_count": 4,
   "metadata": {},
   "outputs": [],
   "source": [
    "df1=df.drop(['Rainfall','Month','Year'],axis=1)\n",
    "Y = df[\"WPI\"].to_numpy()\n",
    "X=df[\"Date\"].to_numpy()"
   ]
  },
  {
   "cell_type": "code",
   "execution_count": null,
   "metadata": {},
   "outputs": [],
   "source": []
  },
  {
   "cell_type": "code",
   "execution_count": 5,
   "metadata": {},
   "outputs": [
    {
     "data": {
      "text/plain": [
       "array([ 97.1,  99.7, 101.6, 108.6, 115.6, 118.6, 116.3, 114.4, 110.2,\n",
       "       109.1, 110.6, 116.3, 118.1, 118.2, 117.7, 116.5, 116.7, 117.2,\n",
       "       118.4, 119. , 118.4, 118.1, 118.4, 119. , 120.6, 121. , 120.1,\n",
       "       122.2, 126.8, 126.5, 126.3, 127.7, 128.2, 134.3, 139.1, 144.8,\n",
       "       148.4, 157.3, 173.7, 174.8, 185.5, 196.9, 219. , 217.1, 222.8,\n",
       "       215.8, 205.5, 201.2, 217.5, 216.8, 217.2, 215.1, 195. , 184.6,\n",
       "       182.4, 178.9, 166. , 140.7, 133.1, 126. , 127.2, 121.6, 118.3,\n",
       "       114.1, 115.4, 118.4, 113.8, 111.6, 112.6, 114.9, 116.5, 116.6,\n",
       "       115.3, 115.9, 113.2, 111.2, 110.8, 110.8, 109.4, 114. , 123.9])"
      ]
     },
     "execution_count": 5,
     "metadata": {},
     "output_type": "execute_result"
    }
   ],
   "source": [
    "Y\n"
   ]
  },
  {
   "cell_type": "code",
   "execution_count": null,
   "metadata": {},
   "outputs": [],
   "source": []
  },
  {
   "cell_type": "code",
   "execution_count": 6,
   "metadata": {},
   "outputs": [
    {
     "data": {
      "text/html": [
       "<div>\n",
       "<style scoped>\n",
       "    .dataframe tbody tr th:only-of-type {\n",
       "        vertical-align: middle;\n",
       "    }\n",
       "\n",
       "    .dataframe tbody tr th {\n",
       "        vertical-align: top;\n",
       "    }\n",
       "\n",
       "    .dataframe thead th {\n",
       "        text-align: right;\n",
       "    }\n",
       "</style>\n",
       "<table border=\"1\" class=\"dataframe\">\n",
       "  <thead>\n",
       "    <tr style=\"text-align: right;\">\n",
       "      <th></th>\n",
       "      <th>Date</th>\n",
       "      <th>WPI</th>\n",
       "    </tr>\n",
       "  </thead>\n",
       "  <tbody>\n",
       "    <tr>\n",
       "      <th>0</th>\n",
       "      <td>2012-04-01</td>\n",
       "      <td>97.1</td>\n",
       "    </tr>\n",
       "    <tr>\n",
       "      <th>1</th>\n",
       "      <td>2012-05-01</td>\n",
       "      <td>99.7</td>\n",
       "    </tr>\n",
       "    <tr>\n",
       "      <th>2</th>\n",
       "      <td>2012-06-01</td>\n",
       "      <td>101.6</td>\n",
       "    </tr>\n",
       "    <tr>\n",
       "      <th>3</th>\n",
       "      <td>2012-07-01</td>\n",
       "      <td>108.6</td>\n",
       "    </tr>\n",
       "    <tr>\n",
       "      <th>4</th>\n",
       "      <td>2012-08-01</td>\n",
       "      <td>115.6</td>\n",
       "    </tr>\n",
       "    <tr>\n",
       "      <th>...</th>\n",
       "      <td>...</td>\n",
       "      <td>...</td>\n",
       "    </tr>\n",
       "    <tr>\n",
       "      <th>76</th>\n",
       "      <td>2018-08-01</td>\n",
       "      <td>110.8</td>\n",
       "    </tr>\n",
       "    <tr>\n",
       "      <th>77</th>\n",
       "      <td>2018-09-01</td>\n",
       "      <td>110.8</td>\n",
       "    </tr>\n",
       "    <tr>\n",
       "      <th>78</th>\n",
       "      <td>2018-10-01</td>\n",
       "      <td>109.4</td>\n",
       "    </tr>\n",
       "    <tr>\n",
       "      <th>79</th>\n",
       "      <td>2018-11-01</td>\n",
       "      <td>114.0</td>\n",
       "    </tr>\n",
       "    <tr>\n",
       "      <th>80</th>\n",
       "      <td>2018-12-01</td>\n",
       "      <td>123.9</td>\n",
       "    </tr>\n",
       "  </tbody>\n",
       "</table>\n",
       "<p>81 rows × 2 columns</p>\n",
       "</div>"
      ],
      "text/plain": [
       "         Date    WPI\n",
       "0  2012-04-01   97.1\n",
       "1  2012-05-01   99.7\n",
       "2  2012-06-01  101.6\n",
       "3  2012-07-01  108.6\n",
       "4  2012-08-01  115.6\n",
       "..        ...    ...\n",
       "76 2018-08-01  110.8\n",
       "77 2018-09-01  110.8\n",
       "78 2018-10-01  109.4\n",
       "79 2018-11-01  114.0\n",
       "80 2018-12-01  123.9\n",
       "\n",
       "[81 rows x 2 columns]"
      ]
     },
     "execution_count": 6,
     "metadata": {},
     "output_type": "execute_result"
    }
   ],
   "source": [
    "df1.head()\n",
    "df3=df1.copy()\n",
    "df4=pd.DataFrame(df3)\n",
    "df4"
   ]
  },
  {
   "cell_type": "code",
   "execution_count": 7,
   "metadata": {},
   "outputs": [
    {
     "data": {
      "text/plain": [
       "array(['2012-04-01T00:00:00.000000000', '2012-05-01T00:00:00.000000000',\n",
       "       '2012-06-01T00:00:00.000000000', '2012-07-01T00:00:00.000000000',\n",
       "       '2012-08-01T00:00:00.000000000', '2012-09-01T00:00:00.000000000',\n",
       "       '2012-10-01T00:00:00.000000000', '2012-11-01T00:00:00.000000000',\n",
       "       '2012-12-01T00:00:00.000000000', '2013-01-01T00:00:00.000000000',\n",
       "       '2013-02-01T00:00:00.000000000', '2013-03-01T00:00:00.000000000',\n",
       "       '2013-04-01T00:00:00.000000000', '2013-05-01T00:00:00.000000000',\n",
       "       '2013-06-01T00:00:00.000000000', '2013-07-01T00:00:00.000000000',\n",
       "       '2013-08-01T00:00:00.000000000', '2013-09-01T00:00:00.000000000',\n",
       "       '2013-10-01T00:00:00.000000000', '2013-11-01T00:00:00.000000000',\n",
       "       '2013-12-01T00:00:00.000000000', '2014-01-01T00:00:00.000000000',\n",
       "       '2014-02-01T00:00:00.000000000', '2014-03-01T00:00:00.000000000',\n",
       "       '2014-04-01T00:00:00.000000000', '2014-05-01T00:00:00.000000000',\n",
       "       '2014-06-01T00:00:00.000000000', '2014-07-01T00:00:00.000000000',\n",
       "       '2014-08-01T00:00:00.000000000', '2014-09-01T00:00:00.000000000',\n",
       "       '2014-10-01T00:00:00.000000000', '2014-11-01T00:00:00.000000000',\n",
       "       '2014-12-01T00:00:00.000000000', '2015-01-01T00:00:00.000000000',\n",
       "       '2015-02-01T00:00:00.000000000', '2015-03-01T00:00:00.000000000',\n",
       "       '2015-04-01T00:00:00.000000000', '2015-05-01T00:00:00.000000000',\n",
       "       '2015-06-01T00:00:00.000000000', '2015-07-01T00:00:00.000000000',\n",
       "       '2015-08-01T00:00:00.000000000', '2015-09-01T00:00:00.000000000',\n",
       "       '2015-10-01T00:00:00.000000000', '2015-11-01T00:00:00.000000000',\n",
       "       '2015-12-01T00:00:00.000000000', '2016-01-01T00:00:00.000000000',\n",
       "       '2016-02-01T00:00:00.000000000', '2016-03-01T00:00:00.000000000',\n",
       "       '2016-04-01T00:00:00.000000000', '2016-05-01T00:00:00.000000000',\n",
       "       '2016-06-01T00:00:00.000000000', '2016-07-01T00:00:00.000000000',\n",
       "       '2016-08-01T00:00:00.000000000', '2016-09-01T00:00:00.000000000',\n",
       "       '2016-10-01T00:00:00.000000000', '2016-11-01T00:00:00.000000000',\n",
       "       '2016-12-01T00:00:00.000000000', '2017-01-01T00:00:00.000000000',\n",
       "       '2017-02-01T00:00:00.000000000', '2017-03-01T00:00:00.000000000',\n",
       "       '2017-04-01T00:00:00.000000000', '2017-05-01T00:00:00.000000000',\n",
       "       '2017-06-01T00:00:00.000000000', '2017-07-01T00:00:00.000000000',\n",
       "       '2017-08-01T00:00:00.000000000', '2017-09-01T00:00:00.000000000',\n",
       "       '2017-10-01T00:00:00.000000000', '2017-11-01T00:00:00.000000000',\n",
       "       '2017-12-01T00:00:00.000000000', '2018-01-01T00:00:00.000000000',\n",
       "       '2018-02-01T00:00:00.000000000', '2018-03-01T00:00:00.000000000',\n",
       "       '2018-04-01T00:00:00.000000000', '2018-05-01T00:00:00.000000000',\n",
       "       '2018-06-01T00:00:00.000000000', '2018-07-01T00:00:00.000000000',\n",
       "       '2018-08-01T00:00:00.000000000', '2018-09-01T00:00:00.000000000',\n",
       "       '2018-10-01T00:00:00.000000000', '2018-11-01T00:00:00.000000000',\n",
       "       '2018-12-01T00:00:00.000000000'], dtype='datetime64[ns]')"
      ]
     },
     "execution_count": 7,
     "metadata": {},
     "output_type": "execute_result"
    }
   ],
   "source": [
    "X"
   ]
  },
  {
   "cell_type": "code",
   "execution_count": 8,
   "metadata": {},
   "outputs": [
    {
     "data": {
      "text/plain": [
       "array([ 97.1,  99.7, 101.6, 108.6, 115.6, 118.6, 116.3, 114.4, 110.2,\n",
       "       109.1, 110.6, 116.3, 118.1, 118.2, 117.7, 116.5, 116.7, 117.2,\n",
       "       118.4, 119. , 118.4, 118.1, 118.4, 119. , 120.6, 121. , 120.1,\n",
       "       122.2, 126.8, 126.5, 126.3, 127.7, 128.2, 134.3, 139.1, 144.8,\n",
       "       148.4, 157.3, 173.7, 174.8, 185.5, 196.9, 219. , 217.1, 222.8,\n",
       "       215.8, 205.5, 201.2, 217.5, 216.8, 217.2, 215.1, 195. , 184.6,\n",
       "       182.4, 178.9, 166. , 140.7, 133.1, 126. , 127.2, 121.6, 118.3,\n",
       "       114.1, 115.4, 118.4, 113.8, 111.6, 112.6, 114.9, 116.5, 116.6,\n",
       "       115.3, 115.9, 113.2, 111.2, 110.8, 110.8, 109.4, 114. , 123.9])"
      ]
     },
     "execution_count": 8,
     "metadata": {},
     "output_type": "execute_result"
    }
   ],
   "source": [
    "Y"
   ]
  },
  {
   "cell_type": "code",
   "execution_count": 9,
   "metadata": {},
   "outputs": [
    {
     "data": {
      "text/html": [
       "<div>\n",
       "<style scoped>\n",
       "    .dataframe tbody tr th:only-of-type {\n",
       "        vertical-align: middle;\n",
       "    }\n",
       "\n",
       "    .dataframe tbody tr th {\n",
       "        vertical-align: top;\n",
       "    }\n",
       "\n",
       "    .dataframe thead th {\n",
       "        text-align: right;\n",
       "    }\n",
       "</style>\n",
       "<table border=\"1\" class=\"dataframe\">\n",
       "  <thead>\n",
       "    <tr style=\"text-align: right;\">\n",
       "      <th></th>\n",
       "      <th>WPI</th>\n",
       "    </tr>\n",
       "    <tr>\n",
       "      <th>Date</th>\n",
       "      <th></th>\n",
       "    </tr>\n",
       "  </thead>\n",
       "  <tbody>\n",
       "    <tr>\n",
       "      <th>2012-04-01</th>\n",
       "      <td>97.1</td>\n",
       "    </tr>\n",
       "    <tr>\n",
       "      <th>2012-05-01</th>\n",
       "      <td>99.7</td>\n",
       "    </tr>\n",
       "    <tr>\n",
       "      <th>2012-06-01</th>\n",
       "      <td>101.6</td>\n",
       "    </tr>\n",
       "    <tr>\n",
       "      <th>2012-07-01</th>\n",
       "      <td>108.6</td>\n",
       "    </tr>\n",
       "    <tr>\n",
       "      <th>2012-08-01</th>\n",
       "      <td>115.6</td>\n",
       "    </tr>\n",
       "    <tr>\n",
       "      <th>...</th>\n",
       "      <td>...</td>\n",
       "    </tr>\n",
       "    <tr>\n",
       "      <th>2018-08-01</th>\n",
       "      <td>110.8</td>\n",
       "    </tr>\n",
       "    <tr>\n",
       "      <th>2018-09-01</th>\n",
       "      <td>110.8</td>\n",
       "    </tr>\n",
       "    <tr>\n",
       "      <th>2018-10-01</th>\n",
       "      <td>109.4</td>\n",
       "    </tr>\n",
       "    <tr>\n",
       "      <th>2018-11-01</th>\n",
       "      <td>114.0</td>\n",
       "    </tr>\n",
       "    <tr>\n",
       "      <th>2018-12-01</th>\n",
       "      <td>123.9</td>\n",
       "    </tr>\n",
       "  </tbody>\n",
       "</table>\n",
       "<p>81 rows × 1 columns</p>\n",
       "</div>"
      ],
      "text/plain": [
       "              WPI\n",
       "Date             \n",
       "2012-04-01   97.1\n",
       "2012-05-01   99.7\n",
       "2012-06-01  101.6\n",
       "2012-07-01  108.6\n",
       "2012-08-01  115.6\n",
       "...           ...\n",
       "2018-08-01  110.8\n",
       "2018-09-01  110.8\n",
       "2018-10-01  109.4\n",
       "2018-11-01  114.0\n",
       "2018-12-01  123.9\n",
       "\n",
       "[81 rows x 1 columns]"
      ]
     },
     "execution_count": 9,
     "metadata": {},
     "output_type": "execute_result"
    }
   ],
   "source": [
    "\n",
    "df1.set_index('Date',inplace=True)\n",
    "from statsmodels.tsa.stattools import adfuller\n",
    "df1"
   ]
  },
  {
   "cell_type": "code",
   "execution_count": 10,
   "metadata": {},
   "outputs": [],
   "source": [
    "#Ho: It is non stationary\n",
    "#H1: It is stationary\n",
    "\n",
    "def adfuller_test(sales):\n",
    "    result=adfuller(sales)\n",
    "    labels = ['ADF Test Statistic','p-value','#Lags Used','Number of Observations Used']\n",
    "    for value,label in zip(result,labels):\n",
    "        print(label+' : '+str(value) )\n",
    "    if result[1] <= 0.05:\n",
    "        print(\"strong evidence against the null hypothesis(Ho), reject the null hypothesis. Data has no unit root and is stationary\")\n",
    "    else:\n",
    "        print(\"weak evidence against null hypothesis, time series has a unit root, indicating it is non-stationary \")"
   ]
  },
  {
   "cell_type": "code",
   "execution_count": null,
   "metadata": {},
   "outputs": [],
   "source": []
  },
  {
   "cell_type": "code",
   "execution_count": null,
   "metadata": {},
   "outputs": [],
   "source": []
  },
  {
   "cell_type": "code",
   "execution_count": null,
   "metadata": {},
   "outputs": [],
   "source": []
  },
  {
   "cell_type": "code",
   "execution_count": null,
   "metadata": {},
   "outputs": [],
   "source": []
  },
  {
   "cell_type": "code",
   "execution_count": 11,
   "metadata": {},
   "outputs": [
    {
     "name": "stdout",
     "output_type": "stream",
     "text": [
      "ADF Test Statistic : -2.572262020846502\n",
      "p-value : 0.09886672201204194\n",
      "#Lags Used : 6\n",
      "Number of Observations Used : 74\n",
      "weak evidence against null hypothesis, time series has a unit root, indicating it is non-stationary \n"
     ]
    }
   ],
   "source": [
    "adfuller_test(df1['WPI'])\n",
    "\n"
   ]
  },
  {
   "cell_type": "code",
   "execution_count": 12,
   "metadata": {},
   "outputs": [],
   "source": [
    "df1['WPI First Difference'] = df['WPI'] - df['WPI'].shift(1)"
   ]
  },
  {
   "cell_type": "code",
   "execution_count": 13,
   "metadata": {},
   "outputs": [
    {
     "data": {
      "text/plain": [
       "Date\n",
       "2012-04-01      NaN\n",
       "2012-05-01     97.1\n",
       "2012-06-01     99.7\n",
       "2012-07-01    101.6\n",
       "2012-08-01    108.6\n",
       "              ...  \n",
       "2018-08-01    111.2\n",
       "2018-09-01    110.8\n",
       "2018-10-01    110.8\n",
       "2018-11-01    109.4\n",
       "2018-12-01    114.0\n",
       "Name: WPI, Length: 81, dtype: float64"
      ]
     },
     "execution_count": 13,
     "metadata": {},
     "output_type": "execute_result"
    }
   ],
   "source": [
    "df1['WPI'].shift(1)"
   ]
  },
  {
   "cell_type": "code",
   "execution_count": 14,
   "metadata": {},
   "outputs": [
    {
     "data": {
      "text/html": [
       "<div>\n",
       "<style scoped>\n",
       "    .dataframe tbody tr th:only-of-type {\n",
       "        vertical-align: middle;\n",
       "    }\n",
       "\n",
       "    .dataframe tbody tr th {\n",
       "        vertical-align: top;\n",
       "    }\n",
       "\n",
       "    .dataframe thead th {\n",
       "        text-align: right;\n",
       "    }\n",
       "</style>\n",
       "<table border=\"1\" class=\"dataframe\">\n",
       "  <thead>\n",
       "    <tr style=\"text-align: right;\">\n",
       "      <th></th>\n",
       "      <th>Date</th>\n",
       "      <th>Rainfall</th>\n",
       "      <th>WPI</th>\n",
       "    </tr>\n",
       "  </thead>\n",
       "  <tbody>\n",
       "    <tr>\n",
       "      <th>0</th>\n",
       "      <td>2012-04-01</td>\n",
       "      <td>47.5</td>\n",
       "      <td>97.1</td>\n",
       "    </tr>\n",
       "    <tr>\n",
       "      <th>1</th>\n",
       "      <td>2012-05-01</td>\n",
       "      <td>31.7</td>\n",
       "      <td>99.7</td>\n",
       "    </tr>\n",
       "    <tr>\n",
       "      <th>2</th>\n",
       "      <td>2012-06-01</td>\n",
       "      <td>117.8</td>\n",
       "      <td>101.6</td>\n",
       "    </tr>\n",
       "    <tr>\n",
       "      <th>3</th>\n",
       "      <td>2012-07-01</td>\n",
       "      <td>250.2</td>\n",
       "      <td>108.6</td>\n",
       "    </tr>\n",
       "    <tr>\n",
       "      <th>4</th>\n",
       "      <td>2012-08-01</td>\n",
       "      <td>262.4</td>\n",
       "      <td>115.6</td>\n",
       "    </tr>\n",
       "    <tr>\n",
       "      <th>...</th>\n",
       "      <td>...</td>\n",
       "      <td>...</td>\n",
       "      <td>...</td>\n",
       "    </tr>\n",
       "    <tr>\n",
       "      <th>76</th>\n",
       "      <td>2018-08-01</td>\n",
       "      <td>254.3</td>\n",
       "      <td>110.8</td>\n",
       "    </tr>\n",
       "    <tr>\n",
       "      <th>77</th>\n",
       "      <td>2018-09-01</td>\n",
       "      <td>171.9</td>\n",
       "      <td>110.8</td>\n",
       "    </tr>\n",
       "    <tr>\n",
       "      <th>78</th>\n",
       "      <td>2018-10-01</td>\n",
       "      <td>77.2</td>\n",
       "      <td>109.4</td>\n",
       "    </tr>\n",
       "    <tr>\n",
       "      <th>79</th>\n",
       "      <td>2018-11-01</td>\n",
       "      <td>28.1</td>\n",
       "      <td>114.0</td>\n",
       "    </tr>\n",
       "    <tr>\n",
       "      <th>80</th>\n",
       "      <td>2018-12-01</td>\n",
       "      <td>14.1</td>\n",
       "      <td>123.9</td>\n",
       "    </tr>\n",
       "  </tbody>\n",
       "</table>\n",
       "<p>81 rows × 3 columns</p>\n",
       "</div>"
      ],
      "text/plain": [
       "         Date  Rainfall    WPI\n",
       "0  2012-04-01      47.5   97.1\n",
       "1  2012-05-01      31.7   99.7\n",
       "2  2012-06-01     117.8  101.6\n",
       "3  2012-07-01     250.2  108.6\n",
       "4  2012-08-01     262.4  115.6\n",
       "..        ...       ...    ...\n",
       "76 2018-08-01     254.3  110.8\n",
       "77 2018-09-01     171.9  110.8\n",
       "78 2018-10-01      77.2  109.4\n",
       "79 2018-11-01      28.1  114.0\n",
       "80 2018-12-01      14.1  123.9\n",
       "\n",
       "[81 rows x 3 columns]"
      ]
     },
     "execution_count": 14,
     "metadata": {},
     "output_type": "execute_result"
    }
   ],
   "source": [
    "df.drop(['Month',\"Year\"],axis=True)"
   ]
  },
  {
   "cell_type": "code",
   "execution_count": 15,
   "metadata": {},
   "outputs": [
    {
     "data": {
      "text/plain": [
       "<Axes: xlabel='Date'>"
      ]
     },
     "execution_count": 15,
     "metadata": {},
     "output_type": "execute_result"
    },
    {
     "data": {
      "image/png": "[encoded data removed]",
      "text/plain": [
       "<Figure size 640x480 with 1 Axes>"
      ]
     },
     "metadata": {},
     "output_type": "display_data"
    }
   ],
   "source": [
    "import matplotlib.pyplot as plt\n",
    "df1.plot()"
   ]
  },
  {
   "cell_type": "code",
   "execution_count": 16,
   "metadata": {},
   "outputs": [],
   "source": [
    "from statsmodels.tsa.stattools import adfuller\n",
    "#Ho: It is non stationary\n",
    "#H1: It is stationary\n",
    "\n",
    "def adfuller_test(sales):\n",
    "    result=adfuller(sales)\n",
    "    labels = ['ADF Test Statistic','p-value','#Lags Used','Number of Observations Used']\n",
    "    for value,label in zip(result,labels):\n",
    "        print(label+' : '+str(value) )\n",
    "    if result[1] <= 0.05:\n",
    "        print(\"strong evidence against the null hypothesis(Ho), reject the null hypothesis. Data has no unit root and is stationary\")\n",
    "    else:\n",
    "        print(\"weak evidence against null hypothesis, time series has a unit root, indicating it is non-stationary \")"
   ]
  },
  {
   "cell_type": "code",
   "execution_count": 17,
   "metadata": {},
   "outputs": [],
   "source": [
    "df1['WPI First Difference'] = df1['WPI'] - df1['WPI'].shift(30)"
   ]
  },
  {
   "cell_type": "code",
   "execution_count": null,
   "metadata": {},
   "outputs": [],
   "source": []
  },
  {
   "cell_type": "code",
   "execution_count": 18,
   "metadata": {},
   "outputs": [
    {
     "data": {
      "text/html": [
       "<div>\n",
       "<style scoped>\n",
       "    .dataframe tbody tr th:only-of-type {\n",
       "        vertical-align: middle;\n",
       "    }\n",
       "\n",
       "    .dataframe tbody tr th {\n",
       "        vertical-align: top;\n",
       "    }\n",
       "\n",
       "    .dataframe thead th {\n",
       "        text-align: right;\n",
       "    }\n",
       "</style>\n",
       "<table border=\"1\" class=\"dataframe\">\n",
       "  <thead>\n",
       "    <tr style=\"text-align: right;\">\n",
       "      <th></th>\n",
       "      <th>WPI</th>\n",
       "      <th>WPI First Difference</th>\n",
       "    </tr>\n",
       "    <tr>\n",
       "      <th>Date</th>\n",
       "      <th></th>\n",
       "      <th></th>\n",
       "    </tr>\n",
       "  </thead>\n",
       "  <tbody>\n",
       "    <tr>\n",
       "      <th>2016-07-01</th>\n",
       "      <td>215.1</td>\n",
       "      <td>97.0</td>\n",
       "    </tr>\n",
       "    <tr>\n",
       "      <th>2016-08-01</th>\n",
       "      <td>195.0</td>\n",
       "      <td>76.6</td>\n",
       "    </tr>\n",
       "    <tr>\n",
       "      <th>2016-09-01</th>\n",
       "      <td>184.6</td>\n",
       "      <td>65.6</td>\n",
       "    </tr>\n",
       "    <tr>\n",
       "      <th>2016-10-01</th>\n",
       "      <td>182.4</td>\n",
       "      <td>61.8</td>\n",
       "    </tr>\n",
       "    <tr>\n",
       "      <th>2016-11-01</th>\n",
       "      <td>178.9</td>\n",
       "      <td>57.9</td>\n",
       "    </tr>\n",
       "    <tr>\n",
       "      <th>2016-12-01</th>\n",
       "      <td>166.0</td>\n",
       "      <td>45.9</td>\n",
       "    </tr>\n",
       "    <tr>\n",
       "      <th>2017-01-01</th>\n",
       "      <td>140.7</td>\n",
       "      <td>18.5</td>\n",
       "    </tr>\n",
       "    <tr>\n",
       "      <th>2017-02-01</th>\n",
       "      <td>133.1</td>\n",
       "      <td>6.3</td>\n",
       "    </tr>\n",
       "    <tr>\n",
       "      <th>2017-03-01</th>\n",
       "      <td>126.0</td>\n",
       "      <td>-0.5</td>\n",
       "    </tr>\n",
       "    <tr>\n",
       "      <th>2017-04-01</th>\n",
       "      <td>127.2</td>\n",
       "      <td>0.9</td>\n",
       "    </tr>\n",
       "    <tr>\n",
       "      <th>2017-05-01</th>\n",
       "      <td>121.6</td>\n",
       "      <td>-6.1</td>\n",
       "    </tr>\n",
       "    <tr>\n",
       "      <th>2017-06-01</th>\n",
       "      <td>118.3</td>\n",
       "      <td>-9.9</td>\n",
       "    </tr>\n",
       "    <tr>\n",
       "      <th>2017-07-01</th>\n",
       "      <td>114.1</td>\n",
       "      <td>-20.2</td>\n",
       "    </tr>\n",
       "    <tr>\n",
       "      <th>2017-08-01</th>\n",
       "      <td>115.4</td>\n",
       "      <td>-23.7</td>\n",
       "    </tr>\n",
       "    <tr>\n",
       "      <th>2017-09-01</th>\n",
       "      <td>118.4</td>\n",
       "      <td>-26.4</td>\n",
       "    </tr>\n",
       "    <tr>\n",
       "      <th>2017-10-01</th>\n",
       "      <td>113.8</td>\n",
       "      <td>-34.6</td>\n",
       "    </tr>\n",
       "    <tr>\n",
       "      <th>2017-11-01</th>\n",
       "      <td>111.6</td>\n",
       "      <td>-45.7</td>\n",
       "    </tr>\n",
       "    <tr>\n",
       "      <th>2017-12-01</th>\n",
       "      <td>112.6</td>\n",
       "      <td>-61.1</td>\n",
       "    </tr>\n",
       "    <tr>\n",
       "      <th>2018-01-01</th>\n",
       "      <td>114.9</td>\n",
       "      <td>-59.9</td>\n",
       "    </tr>\n",
       "    <tr>\n",
       "      <th>2018-02-01</th>\n",
       "      <td>116.5</td>\n",
       "      <td>-69.0</td>\n",
       "    </tr>\n",
       "    <tr>\n",
       "      <th>2018-03-01</th>\n",
       "      <td>116.6</td>\n",
       "      <td>-80.3</td>\n",
       "    </tr>\n",
       "    <tr>\n",
       "      <th>2018-04-01</th>\n",
       "      <td>115.3</td>\n",
       "      <td>-103.7</td>\n",
       "    </tr>\n",
       "    <tr>\n",
       "      <th>2018-05-01</th>\n",
       "      <td>115.9</td>\n",
       "      <td>-101.2</td>\n",
       "    </tr>\n",
       "    <tr>\n",
       "      <th>2018-06-01</th>\n",
       "      <td>113.2</td>\n",
       "      <td>-109.6</td>\n",
       "    </tr>\n",
       "    <tr>\n",
       "      <th>2018-07-01</th>\n",
       "      <td>111.2</td>\n",
       "      <td>-104.6</td>\n",
       "    </tr>\n",
       "    <tr>\n",
       "      <th>2018-08-01</th>\n",
       "      <td>110.8</td>\n",
       "      <td>-94.7</td>\n",
       "    </tr>\n",
       "    <tr>\n",
       "      <th>2018-09-01</th>\n",
       "      <td>110.8</td>\n",
       "      <td>-90.4</td>\n",
       "    </tr>\n",
       "    <tr>\n",
       "      <th>2018-10-01</th>\n",
       "      <td>109.4</td>\n",
       "      <td>-108.1</td>\n",
       "    </tr>\n",
       "    <tr>\n",
       "      <th>2018-11-01</th>\n",
       "      <td>114.0</td>\n",
       "      <td>-102.8</td>\n",
       "    </tr>\n",
       "    <tr>\n",
       "      <th>2018-12-01</th>\n",
       "      <td>123.9</td>\n",
       "      <td>-93.3</td>\n",
       "    </tr>\n",
       "  </tbody>\n",
       "</table>\n",
       "</div>"
      ],
      "text/plain": [
       "              WPI  WPI First Difference\n",
       "Date                                   \n",
       "2016-07-01  215.1                  97.0\n",
       "2016-08-01  195.0                  76.6\n",
       "2016-09-01  184.6                  65.6\n",
       "2016-10-01  182.4                  61.8\n",
       "2016-11-01  178.9                  57.9\n",
       "2016-12-01  166.0                  45.9\n",
       "2017-01-01  140.7                  18.5\n",
       "2017-02-01  133.1                   6.3\n",
       "2017-03-01  126.0                  -0.5\n",
       "2017-04-01  127.2                   0.9\n",
       "2017-05-01  121.6                  -6.1\n",
       "2017-06-01  118.3                  -9.9\n",
       "2017-07-01  114.1                 -20.2\n",
       "2017-08-01  115.4                 -23.7\n",
       "2017-09-01  118.4                 -26.4\n",
       "2017-10-01  113.8                 -34.6\n",
       "2017-11-01  111.6                 -45.7\n",
       "2017-12-01  112.6                 -61.1\n",
       "2018-01-01  114.9                 -59.9\n",
       "2018-02-01  116.5                 -69.0\n",
       "2018-03-01  116.6                 -80.3\n",
       "2018-04-01  115.3                -103.7\n",
       "2018-05-01  115.9                -101.2\n",
       "2018-06-01  113.2                -109.6\n",
       "2018-07-01  111.2                -104.6\n",
       "2018-08-01  110.8                 -94.7\n",
       "2018-09-01  110.8                 -90.4\n",
       "2018-10-01  109.4                -108.1\n",
       "2018-11-01  114.0                -102.8\n",
       "2018-12-01  123.9                 -93.3"
      ]
     },
     "execution_count": 18,
     "metadata": {},
     "output_type": "execute_result"
    }
   ],
   "source": [
    "df1.tail(30)"
   ]
  },
  {
   "cell_type": "code",
   "execution_count": 19,
   "metadata": {},
   "outputs": [
    {
     "name": "stdout",
     "output_type": "stream",
     "text": [
      "ADF Test Statistic : -1.8246841076731177\n",
      "p-value : 0.36827739833424156\n",
      "#Lags Used : 6\n",
      "Number of Observations Used : 44\n",
      "weak evidence against null hypothesis, time series has a unit root, indicating it is non-stationary \n"
     ]
    }
   ],
   "source": [
    "adfuller_test(df1['WPI First Difference'].dropna())"
   ]
  },
  {
   "cell_type": "code",
   "execution_count": 20,
   "metadata": {},
   "outputs": [
    {
     "data": {
      "text/plain": [
       "<Axes: xlabel='Date'>"
      ]
     },
     "execution_count": 20,
     "metadata": {},
     "output_type": "execute_result"
    },
    {
     "data": {
      "image/png": "[encoded data removed]",
      "text/plain": [
       "<Figure size 640x480 with 1 Axes>"
      ]
     },
     "metadata": {},
     "output_type": "display_data"
    }
   ],
   "source": [
    "df1['WPI First Difference'].plot()"
   ]
  },
  {
   "cell_type": "code",
   "execution_count": 21,
   "metadata": {},
   "outputs": [],
   "source": [
    "from statsmodels.graphics.tsaplots import plot_acf,plot_pacf\n",
    "import statsmodels.api as sm"
   ]
  },
  {
   "cell_type": "code",
   "execution_count": 22,
   "metadata": {},
   "outputs": [
    {
     "name": "stderr",
     "output_type": "stream",
     "text": [
      "c:\\Users\\rouna\\AppData\\Local\\Programs\\Python\\Python312\\Lib\\site-packages\\statsmodels\\tsa\\base\\tsa_model.py:473: ValueWarning: No frequency information was provided, so inferred frequency MS will be used.\n",
      "  self._init_dates(dates, freq)\n",
      "c:\\Users\\rouna\\AppData\\Local\\Programs\\Python\\Python312\\Lib\\site-packages\\statsmodels\\tsa\\base\\tsa_model.py:473: ValueWarning: No frequency information was provided, so inferred frequency MS will be used.\n",
      "  self._init_dates(dates, freq)\n",
      "c:\\Users\\rouna\\AppData\\Local\\Programs\\Python\\Python312\\Lib\\site-packages\\statsmodels\\tsa\\base\\tsa_model.py:473: ValueWarning: No frequency information was provided, so inferred frequency MS will be used.\n",
      "  self._init_dates(dates, freq)\n"
     ]
    }
   ],
   "source": [
    "from statsmodels.tsa.arima.model import ARIMA\n",
    "model=ARIMA(df1['WPI'],order=(1,1,1))\n",
    "model_fit=model.fit()"
   ]
  },
  {
   "cell_type": "code",
   "execution_count": 23,
   "metadata": {},
   "outputs": [
    {
     "data": {
      "text/html": [
       "<div>\n",
       "<style scoped>\n",
       "    .dataframe tbody tr th:only-of-type {\n",
       "        vertical-align: middle;\n",
       "    }\n",
       "\n",
       "    .dataframe tbody tr th {\n",
       "        vertical-align: top;\n",
       "    }\n",
       "\n",
       "    .dataframe thead th {\n",
       "        text-align: right;\n",
       "    }\n",
       "</style>\n",
       "<table border=\"1\" class=\"dataframe\">\n",
       "  <thead>\n",
       "    <tr style=\"text-align: right;\">\n",
       "      <th></th>\n",
       "      <th>WPI</th>\n",
       "      <th>WPI First Difference</th>\n",
       "      <th>forecast</th>\n",
       "    </tr>\n",
       "    <tr>\n",
       "      <th>Date</th>\n",
       "      <th></th>\n",
       "      <th></th>\n",
       "      <th></th>\n",
       "    </tr>\n",
       "  </thead>\n",
       "  <tbody>\n",
       "    <tr>\n",
       "      <th>2018-08-01</th>\n",
       "      <td>110.8</td>\n",
       "      <td>-94.7</td>\n",
       "      <td>110.094704</td>\n",
       "    </tr>\n",
       "    <tr>\n",
       "      <th>2018-09-01</th>\n",
       "      <td>110.8</td>\n",
       "      <td>-90.4</td>\n",
       "      <td>110.362417</td>\n",
       "    </tr>\n",
       "    <tr>\n",
       "      <th>2018-10-01</th>\n",
       "      <td>109.4</td>\n",
       "      <td>-108.1</td>\n",
       "      <td>110.693042</td>\n",
       "    </tr>\n",
       "    <tr>\n",
       "      <th>2018-11-01</th>\n",
       "      <td>114.0</td>\n",
       "      <td>-102.8</td>\n",
       "      <td>108.787901</td>\n",
       "    </tr>\n",
       "    <tr>\n",
       "      <th>2018-12-01</th>\n",
       "      <td>123.9</td>\n",
       "      <td>-93.3</td>\n",
       "      <td>115.775666</td>\n",
       "    </tr>\n",
       "  </tbody>\n",
       "</table>\n",
       "</div>"
      ],
      "text/plain": [
       "              WPI  WPI First Difference    forecast\n",
       "Date                                               \n",
       "2018-08-01  110.8                 -94.7  110.094704\n",
       "2018-09-01  110.8                 -90.4  110.362417\n",
       "2018-10-01  109.4                -108.1  110.693042\n",
       "2018-11-01  114.0                -102.8  108.787901\n",
       "2018-12-01  123.9                 -93.3  115.775666"
      ]
     },
     "execution_count": 23,
     "metadata": {},
     "output_type": "execute_result"
    },
    {
     "data": {
      "image/png": "[encoded data removed]",
      "text/plain": [
       "<Figure size 1200x800 with 1 Axes>"
      ]
     },
     "metadata": {},
     "output_type": "display_data"
    }
   ],
   "source": [
    "df1['forecast']=model_fit.predict(start=40,end=200,dynamic=False)\n",
    "df1[['WPI','forecast']].plot(figsize=(12,8))\n",
    "df1.tail()"
   ]
  },
  {
   "cell_type": "code",
   "execution_count": 24,
   "metadata": {},
   "outputs": [
    {
     "name": "stderr",
     "output_type": "stream",
     "text": [
      "c:\\Users\\rouna\\AppData\\Local\\Programs\\Python\\Python312\\Lib\\site-packages\\statsmodels\\tsa\\base\\tsa_model.py:473: ValueWarning: No frequency information was provided, so inferred frequency MS will be used.\n",
      "  self._init_dates(dates, freq)\n",
      "c:\\Users\\rouna\\AppData\\Local\\Programs\\Python\\Python312\\Lib\\site-packages\\statsmodels\\tsa\\base\\tsa_model.py:473: ValueWarning: No frequency information was provided, so inferred frequency MS will be used.\n",
      "  self._init_dates(dates, freq)\n",
      "c:\\Users\\rouna\\AppData\\Local\\Programs\\Python\\Python312\\Lib\\site-packages\\statsmodels\\tsa\\statespace\\sarimax.py:866: UserWarning: Too few observations to estimate starting parameters for seasonal ARMA. All parameters except for variances will be set to zeros.\n",
      "  warn('Too few observations to estimate starting parameters%s.'\n"
     ]
    }
   ],
   "source": [
    "model=sm.tsa.statespace.SARIMAX(df1['WPI'],order=(1, 1, 1),seasonal_order=(1,1,1,20))\n",
    "results=model.fit()"
   ]
  },
  {
   "cell_type": "code",
   "execution_count": null,
   "metadata": {},
   "outputs": [],
   "source": []
  },
  {
   "cell_type": "code",
   "execution_count": 25,
   "metadata": {},
   "outputs": [
    {
     "data": {
      "text/plain": [
       "<Axes: xlabel='Date'>"
      ]
     },
     "execution_count": 25,
     "metadata": {},
     "output_type": "execute_result"
    },
    {
     "data": {
      "image/png": "[encoded data removed]",
      "text/plain": [
       "<Figure size 1200x800 with 1 Axes>"
      ]
     },
     "metadata": {},
     "output_type": "display_data"
    }
   ],
   "source": [
    "df1['forecast']=results.predict(start=30,end=200,dynamic=True)\n",
    "df1[['WPI','forecast']].plot(figsize=(12,8))"
   ]
  },
  {
   "cell_type": "code",
   "execution_count": null,
   "metadata": {},
   "outputs": [],
   "source": []
  },
  {
   "cell_type": "code",
   "execution_count": 26,
   "metadata": {},
   "outputs": [],
   "source": [
    "from pandas.tseries.offsets import DateOffset\n",
    "future_dates=[df1.index[-1]+ DateOffset(months=x)for x in range(0,48)]"
   ]
  },
  {
   "cell_type": "code",
   "execution_count": 27,
   "metadata": {},
   "outputs": [
    {
     "name": "stderr",
     "output_type": "stream",
     "text": [
      "C:\\Users\\rouna\\AppData\\Local\\Temp\\ipykernel_16252\\1863757010.py:2: FutureWarning: The behavior of DataFrame concatenation with empty or all-NA entries is deprecated. In a future version, this will no longer exclude empty or all-NA columns when determining the result dtypes. To retain the old behavior, exclude the relevant entries before the concat operation.\n",
      "  future_df=pd.concat([df1,future_datest_df])\n"
     ]
    }
   ],
   "source": [
    "future_datest_df=pd.DataFrame(index=future_dates[1:],columns=df1.columns)\n",
    "future_df=pd.concat([df1,future_datest_df])"
   ]
  },
  {
   "cell_type": "code",
   "execution_count": 28,
   "metadata": {},
   "outputs": [
    {
     "data": {
      "text/plain": [
       "<Axes: >"
      ]
     },
     "execution_count": 28,
     "metadata": {},
     "output_type": "execute_result"
    },
    {
     "data": {
      "image/png": "[encoded data removed]",
      "text/plain": [
       "<Figure size 1200x800 with 1 Axes>"
      ]
     },
     "metadata": {},
     "output_type": "display_data"
    }
   ],
   "source": [
    "future_df['forecast'] = results.predict(start = 71, end = 300, dynamic= True)  \n",
    "future_df[['WPI', 'forecast']].plot(figsize=(12, 8)) "
   ]
  },
  {
   "cell_type": "code",
   "execution_count": 29,
   "metadata": {},
   "outputs": [
    {
     "data": {
      "text/html": [
       "<div>\n",
       "<style scoped>\n",
       "    .dataframe tbody tr th:only-of-type {\n",
       "        vertical-align: middle;\n",
       "    }\n",
       "\n",
       "    .dataframe tbody tr th {\n",
       "        vertical-align: top;\n",
       "    }\n",
       "\n",
       "    .dataframe thead th {\n",
       "        text-align: right;\n",
       "    }\n",
       "</style>\n",
       "<table border=\"1\" class=\"dataframe\">\n",
       "  <thead>\n",
       "    <tr style=\"text-align: right;\">\n",
       "      <th></th>\n",
       "      <th>WPI</th>\n",
       "      <th>WPI First Difference</th>\n",
       "      <th>forecast</th>\n",
       "    </tr>\n",
       "  </thead>\n",
       "  <tbody>\n",
       "    <tr>\n",
       "      <th>2018-10-01</th>\n",
       "      <td>109.4</td>\n",
       "      <td>-108.1</td>\n",
       "      <td>120.344323</td>\n",
       "    </tr>\n",
       "    <tr>\n",
       "      <th>2018-11-01</th>\n",
       "      <td>114.0</td>\n",
       "      <td>-102.8</td>\n",
       "      <td>119.298142</td>\n",
       "    </tr>\n",
       "    <tr>\n",
       "      <th>2018-12-01</th>\n",
       "      <td>123.9</td>\n",
       "      <td>-93.3</td>\n",
       "      <td>123.627776</td>\n",
       "    </tr>\n",
       "    <tr>\n",
       "      <th>2019-01-01</th>\n",
       "      <td>NaN</td>\n",
       "      <td>NaN</td>\n",
       "      <td>126.828324</td>\n",
       "    </tr>\n",
       "    <tr>\n",
       "      <th>2019-02-01</th>\n",
       "      <td>NaN</td>\n",
       "      <td>NaN</td>\n",
       "      <td>133.523184</td>\n",
       "    </tr>\n",
       "    <tr>\n",
       "      <th>2019-03-01</th>\n",
       "      <td>NaN</td>\n",
       "      <td>NaN</td>\n",
       "      <td>134.397544</td>\n",
       "    </tr>\n",
       "    <tr>\n",
       "      <th>2019-04-01</th>\n",
       "      <td>NaN</td>\n",
       "      <td>NaN</td>\n",
       "      <td>138.603151</td>\n",
       "    </tr>\n",
       "    <tr>\n",
       "      <th>2019-05-01</th>\n",
       "      <td>NaN</td>\n",
       "      <td>NaN</td>\n",
       "      <td>137.861129</td>\n",
       "    </tr>\n",
       "    <tr>\n",
       "      <th>2019-06-01</th>\n",
       "      <td>NaN</td>\n",
       "      <td>NaN</td>\n",
       "      <td>133.275986</td>\n",
       "    </tr>\n",
       "    <tr>\n",
       "      <th>2019-07-01</th>\n",
       "      <td>NaN</td>\n",
       "      <td>NaN</td>\n",
       "      <td>131.809207</td>\n",
       "    </tr>\n",
       "    <tr>\n",
       "      <th>2019-08-01</th>\n",
       "      <td>NaN</td>\n",
       "      <td>NaN</td>\n",
       "      <td>137.048500</td>\n",
       "    </tr>\n",
       "    <tr>\n",
       "      <th>2019-09-01</th>\n",
       "      <td>NaN</td>\n",
       "      <td>NaN</td>\n",
       "      <td>136.785409</td>\n",
       "    </tr>\n",
       "    <tr>\n",
       "      <th>2019-10-01</th>\n",
       "      <td>NaN</td>\n",
       "      <td>NaN</td>\n",
       "      <td>137.467282</td>\n",
       "    </tr>\n",
       "    <tr>\n",
       "      <th>2019-11-01</th>\n",
       "      <td>NaN</td>\n",
       "      <td>NaN</td>\n",
       "      <td>139.163683</td>\n",
       "    </tr>\n",
       "    <tr>\n",
       "      <th>2019-12-01</th>\n",
       "      <td>NaN</td>\n",
       "      <td>NaN</td>\n",
       "      <td>133.326238</td>\n",
       "    </tr>\n",
       "    <tr>\n",
       "      <th>2020-01-01</th>\n",
       "      <td>NaN</td>\n",
       "      <td>NaN</td>\n",
       "      <td>132.118172</td>\n",
       "    </tr>\n",
       "    <tr>\n",
       "      <th>2020-02-01</th>\n",
       "      <td>NaN</td>\n",
       "      <td>NaN</td>\n",
       "      <td>132.954568</td>\n",
       "    </tr>\n",
       "    <tr>\n",
       "      <th>2020-03-01</th>\n",
       "      <td>NaN</td>\n",
       "      <td>NaN</td>\n",
       "      <td>133.447715</td>\n",
       "    </tr>\n",
       "    <tr>\n",
       "      <th>2020-04-01</th>\n",
       "      <td>NaN</td>\n",
       "      <td>NaN</td>\n",
       "      <td>130.522257</td>\n",
       "    </tr>\n",
       "    <tr>\n",
       "      <th>2020-05-01</th>\n",
       "      <td>NaN</td>\n",
       "      <td>NaN</td>\n",
       "      <td>125.460602</td>\n",
       "    </tr>\n",
       "    <tr>\n",
       "      <th>2020-06-01</th>\n",
       "      <td>NaN</td>\n",
       "      <td>NaN</td>\n",
       "      <td>129.114011</td>\n",
       "    </tr>\n",
       "    <tr>\n",
       "      <th>2020-07-01</th>\n",
       "      <td>NaN</td>\n",
       "      <td>NaN</td>\n",
       "      <td>127.308569</td>\n",
       "    </tr>\n",
       "    <tr>\n",
       "      <th>2020-08-01</th>\n",
       "      <td>NaN</td>\n",
       "      <td>NaN</td>\n",
       "      <td>131.244043</td>\n",
       "    </tr>\n",
       "    <tr>\n",
       "      <th>2020-09-01</th>\n",
       "      <td>NaN</td>\n",
       "      <td>NaN</td>\n",
       "      <td>133.355276</td>\n",
       "    </tr>\n",
       "    <tr>\n",
       "      <th>2020-10-01</th>\n",
       "      <td>NaN</td>\n",
       "      <td>NaN</td>\n",
       "      <td>138.815775</td>\n",
       "    </tr>\n",
       "    <tr>\n",
       "      <th>2020-11-01</th>\n",
       "      <td>NaN</td>\n",
       "      <td>NaN</td>\n",
       "      <td>139.062996</td>\n",
       "    </tr>\n",
       "    <tr>\n",
       "      <th>2020-12-01</th>\n",
       "      <td>NaN</td>\n",
       "      <td>NaN</td>\n",
       "      <td>142.909356</td>\n",
       "    </tr>\n",
       "    <tr>\n",
       "      <th>2021-01-01</th>\n",
       "      <td>NaN</td>\n",
       "      <td>NaN</td>\n",
       "      <td>142.627226</td>\n",
       "    </tr>\n",
       "    <tr>\n",
       "      <th>2021-02-01</th>\n",
       "      <td>NaN</td>\n",
       "      <td>NaN</td>\n",
       "      <td>138.039671</td>\n",
       "    </tr>\n",
       "    <tr>\n",
       "      <th>2021-03-01</th>\n",
       "      <td>NaN</td>\n",
       "      <td>NaN</td>\n",
       "      <td>136.482229</td>\n",
       "    </tr>\n",
       "    <tr>\n",
       "      <th>2021-04-01</th>\n",
       "      <td>NaN</td>\n",
       "      <td>NaN</td>\n",
       "      <td>141.199241</td>\n",
       "    </tr>\n",
       "    <tr>\n",
       "      <th>2021-05-01</th>\n",
       "      <td>NaN</td>\n",
       "      <td>NaN</td>\n",
       "      <td>141.251630</td>\n",
       "    </tr>\n",
       "    <tr>\n",
       "      <th>2021-06-01</th>\n",
       "      <td>NaN</td>\n",
       "      <td>NaN</td>\n",
       "      <td>142.046470</td>\n",
       "    </tr>\n",
       "    <tr>\n",
       "      <th>2021-07-01</th>\n",
       "      <td>NaN</td>\n",
       "      <td>NaN</td>\n",
       "      <td>143.880218</td>\n",
       "    </tr>\n",
       "    <tr>\n",
       "      <th>2021-08-01</th>\n",
       "      <td>NaN</td>\n",
       "      <td>NaN</td>\n",
       "      <td>138.335065</td>\n",
       "    </tr>\n",
       "    <tr>\n",
       "      <th>2021-09-01</th>\n",
       "      <td>NaN</td>\n",
       "      <td>NaN</td>\n",
       "      <td>137.315012</td>\n",
       "    </tr>\n",
       "    <tr>\n",
       "      <th>2021-10-01</th>\n",
       "      <td>NaN</td>\n",
       "      <td>NaN</td>\n",
       "      <td>138.222410</td>\n",
       "    </tr>\n",
       "    <tr>\n",
       "      <th>2021-11-01</th>\n",
       "      <td>NaN</td>\n",
       "      <td>NaN</td>\n",
       "      <td>138.796383</td>\n",
       "    </tr>\n",
       "    <tr>\n",
       "      <th>2021-12-01</th>\n",
       "      <td>NaN</td>\n",
       "      <td>NaN</td>\n",
       "      <td>136.050917</td>\n",
       "    </tr>\n",
       "    <tr>\n",
       "      <th>2022-01-01</th>\n",
       "      <td>NaN</td>\n",
       "      <td>NaN</td>\n",
       "      <td>131.344037</td>\n",
       "    </tr>\n",
       "    <tr>\n",
       "      <th>2022-02-01</th>\n",
       "      <td>NaN</td>\n",
       "      <td>NaN</td>\n",
       "      <td>135.195100</td>\n",
       "    </tr>\n",
       "    <tr>\n",
       "      <th>2022-03-01</th>\n",
       "      <td>NaN</td>\n",
       "      <td>NaN</td>\n",
       "      <td>133.483155</td>\n",
       "    </tr>\n",
       "    <tr>\n",
       "      <th>2022-04-01</th>\n",
       "      <td>NaN</td>\n",
       "      <td>NaN</td>\n",
       "      <td>137.467166</td>\n",
       "    </tr>\n",
       "    <tr>\n",
       "      <th>2022-05-01</th>\n",
       "      <td>NaN</td>\n",
       "      <td>NaN</td>\n",
       "      <td>139.712541</td>\n",
       "    </tr>\n",
       "    <tr>\n",
       "      <th>2022-06-01</th>\n",
       "      <td>NaN</td>\n",
       "      <td>NaN</td>\n",
       "      <td>145.325044</td>\n",
       "    </tr>\n",
       "    <tr>\n",
       "      <th>2022-07-01</th>\n",
       "      <td>NaN</td>\n",
       "      <td>NaN</td>\n",
       "      <td>145.649494</td>\n",
       "    </tr>\n",
       "    <tr>\n",
       "      <th>2022-08-01</th>\n",
       "      <td>NaN</td>\n",
       "      <td>NaN</td>\n",
       "      <td>149.540093</td>\n",
       "    </tr>\n",
       "    <tr>\n",
       "      <th>2022-09-01</th>\n",
       "      <td>NaN</td>\n",
       "      <td>NaN</td>\n",
       "      <td>149.201330</td>\n",
       "    </tr>\n",
       "    <tr>\n",
       "      <th>2022-10-01</th>\n",
       "      <td>NaN</td>\n",
       "      <td>NaN</td>\n",
       "      <td>144.614072</td>\n",
       "    </tr>\n",
       "    <tr>\n",
       "      <th>2022-11-01</th>\n",
       "      <td>NaN</td>\n",
       "      <td>NaN</td>\n",
       "      <td>143.067794</td>\n",
       "    </tr>\n",
       "  </tbody>\n",
       "</table>\n",
       "</div>"
      ],
      "text/plain": [
       "              WPI  WPI First Difference    forecast\n",
       "2018-10-01  109.4                -108.1  120.344323\n",
       "2018-11-01  114.0                -102.8  119.298142\n",
       "2018-12-01  123.9                 -93.3  123.627776\n",
       "2019-01-01    NaN                   NaN  126.828324\n",
       "2019-02-01    NaN                   NaN  133.523184\n",
       "2019-03-01    NaN                   NaN  134.397544\n",
       "2019-04-01    NaN                   NaN  138.603151\n",
       "2019-05-01    NaN                   NaN  137.861129\n",
       "2019-06-01    NaN                   NaN  133.275986\n",
       "2019-07-01    NaN                   NaN  131.809207\n",
       "2019-08-01    NaN                   NaN  137.048500\n",
       "2019-09-01    NaN                   NaN  136.785409\n",
       "2019-10-01    NaN                   NaN  137.467282\n",
       "2019-11-01    NaN                   NaN  139.163683\n",
       "2019-12-01    NaN                   NaN  133.326238\n",
       "2020-01-01    NaN                   NaN  132.118172\n",
       "2020-02-01    NaN                   NaN  132.954568\n",
       "2020-03-01    NaN                   NaN  133.447715\n",
       "2020-04-01    NaN                   NaN  130.522257\n",
       "2020-05-01    NaN                   NaN  125.460602\n",
       "2020-06-01    NaN                   NaN  129.114011\n",
       "2020-07-01    NaN                   NaN  127.308569\n",
       "2020-08-01    NaN                   NaN  131.244043\n",
       "2020-09-01    NaN                   NaN  133.355276\n",
       "2020-10-01    NaN                   NaN  138.815775\n",
       "2020-11-01    NaN                   NaN  139.062996\n",
       "2020-12-01    NaN                   NaN  142.909356\n",
       "2021-01-01    NaN                   NaN  142.627226\n",
       "2021-02-01    NaN                   NaN  138.039671\n",
       "2021-03-01    NaN                   NaN  136.482229\n",
       "2021-04-01    NaN                   NaN  141.199241\n",
       "2021-05-01    NaN                   NaN  141.251630\n",
       "2021-06-01    NaN                   NaN  142.046470\n",
       "2021-07-01    NaN                   NaN  143.880218\n",
       "2021-08-01    NaN                   NaN  138.335065\n",
       "2021-09-01    NaN                   NaN  137.315012\n",
       "2021-10-01    NaN                   NaN  138.222410\n",
       "2021-11-01    NaN                   NaN  138.796383\n",
       "2021-12-01    NaN                   NaN  136.050917\n",
       "2022-01-01    NaN                   NaN  131.344037\n",
       "2022-02-01    NaN                   NaN  135.195100\n",
       "2022-03-01    NaN                   NaN  133.483155\n",
       "2022-04-01    NaN                   NaN  137.467166\n",
       "2022-05-01    NaN                   NaN  139.712541\n",
       "2022-06-01    NaN                   NaN  145.325044\n",
       "2022-07-01    NaN                   NaN  145.649494\n",
       "2022-08-01    NaN                   NaN  149.540093\n",
       "2022-09-01    NaN                   NaN  149.201330\n",
       "2022-10-01    NaN                   NaN  144.614072\n",
       "2022-11-01    NaN                   NaN  143.067794"
      ]
     },
     "execution_count": 29,
     "metadata": {},
     "output_type": "execute_result"
    }
   ],
   "source": [
    "future_df.tail(50)"
   ]
  },
  {
   "cell_type": "code",
   "execution_count": 30,
   "metadata": {},
   "outputs": [
    {
     "data": {
      "text/plain": [
       "array([         nan,          nan,          nan,          nan,\n",
       "                nan,          nan,          nan,          nan,\n",
       "                nan,          nan,          nan,          nan,\n",
       "                nan,          nan,          nan,          nan,\n",
       "                nan,          nan,          nan,          nan,\n",
       "                nan,          nan,          nan,          nan,\n",
       "                nan,          nan,          nan,          nan,\n",
       "                nan,          nan,          nan, 119.31222895,\n",
       "       115.84867618, 116.16758518, 117.5806747 , 118.73026006,\n",
       "       117.26649401, 115.08583553, 120.34432331, 119.29814245,\n",
       "       123.62777602, 126.82832426, 133.52318427, 134.39754422,\n",
       "       138.60315146, 137.86112904, 133.27598648, 131.80920672,\n",
       "       137.04849972, 136.78540876, 137.46728249, 139.16368344,\n",
       "       133.32623813, 132.11817196, 132.95456842, 133.4477146 ,\n",
       "       130.52225674, 125.46060226, 129.11401103, 127.30856921,\n",
       "       131.24404285, 133.35527552, 138.81577475, 139.06299611,\n",
       "       142.90935578, 142.62722649, 138.03967149, 136.48222882,\n",
       "       141.19924084, 141.25162965, 142.04646974, 143.88021767,\n",
       "       138.33506497, 137.31501244, 138.22240967, 138.7963826 ,\n",
       "       136.05091742, 131.34403719, 135.19509973, 133.48315494,\n",
       "       137.46716609, 139.71254113, 145.32504445, 145.64949409,\n",
       "       149.54009288, 149.20133026, 144.61407227, 143.06779418])"
      ]
     },
     "execution_count": 30,
     "metadata": {},
     "output_type": "execute_result"
    }
   ],
   "source": [
    "new=future_df.iloc[40:,:]\n",
    "new_data=new.drop(['WPI','WPI First Difference'],axis=1)\n",
    "n1=new_data.index.to_numpy()\n",
    "n2=new_data[\"forecast\"]\n",
    "n2.reset_index(drop=True).to_numpy()\n"
   ]
  },
  {
   "cell_type": "code",
   "execution_count": 31,
   "metadata": {},
   "outputs": [
    {
     "name": "stdout",
     "output_type": "stream",
     "text": [
      "2015-08-01T00:00:00.000000000\n"
     ]
    }
   ],
   "source": [
    "print(n1[0])"
   ]
  },
  {
   "cell_type": "code",
   "execution_count": 32,
   "metadata": {},
   "outputs": [
    {
     "data": {
      "text/plain": [
       "[<matplotlib.lines.Line2D at 0x155849b7f20>]"
      ]
     },
     "execution_count": 32,
     "metadata": {},
     "output_type": "execute_result"
    },
    {
     "data": {
      "image/png": "[encoded data removed]",
      "text/plain": [
       "<Figure size 640x480 with 1 Axes>"
      ]
     },
     "metadata": {},
     "output_type": "display_data"
    }
   ],
   "source": [
    "new_data.plot()\n",
    "\n",
    "plt.plot(n1,n2)"
   ]
  },
  {
   "cell_type": "code",
   "execution_count": null,
   "metadata": {},
   "outputs": [],
   "source": []
  },
  {
   "cell_type": "code",
   "execution_count": null,
   "metadata": {},
   "outputs": [],
   "source": []
  }
 ],
 "metadata": {
  "interpreter": {
   "hash": "7e9fb544f78309f94509a9bb3401d5d49b0b88217b03725426e2890fbbeee296"
  },
  "kernelspec": {
   "display_name": "Python 3.8.12 64-bit ('ML': conda)",
   "language": "python",
   "name": "python3"
  },
  "language_info": {
   "codemirror_mode": {
    "name": "ipython",
    "version": 3
   },
   "file_extension": ".py",
   "mimetype": "text/x-python",
   "name": "python",
   "nbconvert_exporter": "python",
   "pygments_lexer": "ipython3",
   "version": "3.12.1"
  },
  "orig_nbformat": 4
 },
 "nbformat": 4,
 "nbformat_minor": 2
}
