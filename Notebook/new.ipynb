{
 "cells": [
  {
   "cell_type": "code",
   "execution_count": 1,
   "metadata": {},
   "outputs": [
    {
     "name": "stdout",
     "output_type": "stream",
     "text": [
      "This field cannot be empty!\n"
     ]
    }
   ],
   "source": [
    "import pandas as pd\n",
    "import numpy as np\n",
    "import matplotlib.pyplot as plt\n",
    "import seaborn as sns\n",
    "from flask import Flask\n",
    "\n",
    "df = pd.read_csv('crop_production.csv')\n",
    "df = df.dropna()\n",
    "sns.color_palette(\"husl\")\n",
    "\n",
    "def state_production(state):\n",
    "    data_current_state = df[(df[\"State_Name\"] == state)]\n",
    "    fig, ax = plt.subplots(figsize=(20,10))\n",
    "    plt.subplots_adjust(hspace=2)\n",
    "    sns.lineplot(data_current_state['Crop_Year'],data_current_state['Production'],ci=None)\n",
    "    plt.title('State Production vs Years')\n",
    "    \n",
    "    \n",
    "def top_crops(state):\n",
    "    data_current_state = df[(df[\"State_Name\"] == state)]\n",
    "    crop = data_current_state.groupby(by='Crop')['Production'].sum().reset_index().sort_values(by='Production', ascending=False).head(10)    \n",
    "    fig, ax = plt.subplots(figsize=(15,10))\n",
    "    sns.barplot(crop.Crop, crop.Production,errwidth=0)\n",
    "    plt.yscale('log')\n",
    "    plt.title('Overall Crops vs Production ')\n",
    "    \n",
    "def top_districts(state):\n",
    "    data_current_state = df[(df[\"State_Name\"] == state)]\n",
    "    topdistricts = data_current_state.groupby(by='District_Name')['Production'].sum().reset_index().sort_values(by='Production',ascending=False).head(15)\n",
    "    fig, ax = plt.subplots(figsize=(15,10))\n",
    "    sns.barplot(topdistricts.District_Name, topdistricts.Production,errwidth=0)\n",
    "    plt.yscale('log')\n",
    "    plt.xticks(rotation=30)\n",
    "    plt.title('Overall Districts vs Production ')\n",
    "    \n",
    "def crop_types(state):    \n",
    "    data_current_state = df[(df[\"State_Name\"] == state)]\n",
    "    season = data_current_state.groupby(by='Season')['Production'].sum().reset_index().sort_values(by='Production', ascending=False).head(10)\n",
    "    fig, ax = plt.subplots(figsize=(15,10))\n",
    "    sns.barplot(season.Season, season.Production,errwidth=0)\n",
    "    plt.yscale('log')\n",
    "    plt.title('Seasonal Crops vs Production')\n",
    "   \n",
    "\n",
    "\n",
    "    '''\n",
    "app = Flask(__name__)\n",
    "\n",
    "@app.route(\"/\")\n",
    "def hello_world():\n",
    "    return \"<p>In Final Yeild!</p>\"\n",
    "\n",
    "if __name__ == \"__main__\":\n",
    "    app.run(debug = False)\n",
    "    '''\n",
    "    \n",
    "def main():\n",
    "    state = input(\"Enter your state: \")\n",
    "    if not state:\n",
    "        print(\"This field cannot be empty!\")\n",
    "        return\n",
    "    \n",
    "    \n",
    "    \n",
    "    state_production(state)\n",
    "    top_crops(state)\n",
    "    top_districts(state)\n",
    "    crop_types(state)\n",
    "\n",
    "\n",
    "\n",
    "if __name__==\"__main__\":\n",
    "    main()\n",
    "        \n",
    "    \n",
    "\n",
    "\n",
    "       "
   ]
  }
 ],
 "metadata": {
  "interpreter": {
   "hash": "7e9fb544f78309f94509a9bb3401d5d49b0b88217b03725426e2890fbbeee296"
  },
  "kernelspec": {
   "display_name": "Python 3.8.12 ('ML')",
   "language": "python",
   "name": "python3"
  },
  "language_info": {
   "codemirror_mode": {
    "name": "ipython",
    "version": 3
   },
   "file_extension": ".py",
   "mimetype": "text/x-python",
   "name": "python",
   "nbconvert_exporter": "python",
   "pygments_lexer": "ipython3",
   "version": "3.12.1"
  },
  "orig_nbformat": 4
 },
 "nbformat": 4,
 "nbformat_minor": 2
}
